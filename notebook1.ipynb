{
 "metadata": {
  "name": ""
 },
 "nbformat": 3,
 "nbformat_minor": 0,
 "worksheets": [
  {
   "cells": [
    {
     "cell_type": "code",
     "collapsed": false,
     "input": [
      "import time\n",
      "from multiprocessing import Process\n",
      "\n",
      "def tree(size):\n",
      "    print(\"called {}\".format(size))\n",
      "    time.sleep(5)\n",
      "    \n",
      "    if size > 1:\n",
      "        p1 = Process(target=tree, args=(size/2,))\n",
      "        p1.start()\n",
      "\n",
      "        p2 = Process(target=tree, args=(size/2,))\n",
      "        p2.start()\n",
      "\n",
      "    else:\n",
      "        print(1)\n",
      "    \n",
      "tree(8) "
     ],
     "language": "python",
     "metadata": {},
     "outputs": [
      {
       "output_type": "stream",
       "stream": "stdout",
       "text": [
        "called 4\n",
        "called 2\n",
        "called 1\n",
        "called 1\n",
        "called 2\n",
        "called 1\n",
        "called 1\n",
        "1111\n",
        "\n",
        "\n",
        "\n"
       ]
      },
      {
       "output_type": "stream",
       "stream": "stdout",
       "text": [
        "called 4\n",
        "called 2\n",
        "called 1\n",
        "called 1\n",
        "called 2\n",
        "called 1\n",
        "called 1\n",
        "1111\n",
        "\n",
        "\n",
        "\n"
       ]
      },
      {
       "output_type": "stream",
       "stream": "stdout",
       "text": [
        "called 8\n"
       ]
      },
      {
       "output_type": "stream",
       "stream": "stdout",
       "text": [
        "called 4\n",
        "called 4\n"
       ]
      }
     ],
     "prompt_number": 15
    },
    {
     "cell_type": "code",
     "collapsed": false,
     "input": [],
     "language": "python",
     "metadata": {},
     "outputs": []
    }
   ],
   "metadata": {}
  }
 ]
}