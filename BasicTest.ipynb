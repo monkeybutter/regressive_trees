{
 "metadata": {
  "name": ""
 },
 "nbformat": 3,
 "nbformat_minor": 0,
 "worksheets": [
  {
   "cells": [
    {
     "cell_type": "code",
     "collapsed": false,
     "input": [
      "import pickle\n",
      "import numpy as np\n",
      "import pandas as pd\n",
      "import pickle\n",
      "from evaluator import evaluate_dataset_raw, evaluate_dataset_rmse, evaluate_dataset_mae\n",
      "import json\n",
      "\n",
      "airports = ['yssy', 'egll', 'zbaa']\n",
      "airports = ['zbaa']\n",
      "class_vars = ['metar_wind_spd']\n",
      "\n",
      "for airport in airports:\n",
      "    for class_var in class_vars:\n",
      "        raw_cir_error = []\n",
      "        raw_lin_error = []\n",
      "        for i in range(1,6):\n",
      "            test_df = pickle.load(open(\"/Users/SmartWombat/Dropbox/Data for Tree/Results/cx5_lin_vs_cir_bin100_2/{}_{}_bin100_cx{}_testdf.pick\".format(airport, class_var, i), \"rb\"))\n",
      "            cir_tree = pickle.load(open(\"/Users/SmartWombat/Dropbox/Data for Tree/Results/cx5_lin_vs_cir_bin100_2/{}_{}_circular_bin100_cx{}_tree.pick\".format(airport, class_var, i), \"rb\"))\n",
      "            lin_tree = pickle.load(open(\"/Users/SmartWombat/Dropbox/Data for Tree/Results/cx5_lin_vs_cir_bin100/{}_{}_linear_bin100_cx{}_tree.pick\".format(airport, class_var, i), \"rb\"))\n",
      "            raw_cir_error.extend(evaluate_dataset_raw(class_var, cir_tree, test_df))\n",
      "            raw_lin_error.extend(evaluate_dataset_raw(class_var, lin_tree, test_df))\n",
      "            \n",
      "            print(\"Circular RMSE {}: {}\".format(i, evaluate_dataset_rmse(class_var, cir_tree, test_df)))\n",
      "            #print(\"Circular MAE {}: {}\".format(i, evaluate_dataset_mae(class_var, cir_tree, test_df)))\n",
      "            print(\"Linear RMSE {}: {}\".format(i, evaluate_dataset_rmse(class_var, lin_tree, test_df)))\n",
      "            #print(\"Linear MAE {}: {}\".format(i, evaluate_dataset_mae(class_var, lin_tree, test_df)))\n",
      "\n",
      "        print(len(raw_cir_error))\n",
      "        print(\"RMSE Circular: {}\".format(np.sqrt(np.mean([i ** 2 for i in raw_cir_error]))))\n",
      "        print(\"RMSE Linear: {}\".format(np.sqrt(np.mean([i ** 2 for i in raw_lin_error]))))\n",
      "            "
     ],
     "language": "python",
     "metadata": {},
     "outputs": [
      {
       "output_type": "stream",
       "stream": "stdout",
       "text": [
        "Circular RMSE 1: 1.43893721234\n",
        "Linear RMSE 1: 1.98127745792"
       ]
      },
      {
       "output_type": "stream",
       "stream": "stdout",
       "text": [
        "\n",
        "Circular RMSE 2: 1.4735506996"
       ]
      },
      {
       "output_type": "stream",
       "stream": "stdout",
       "text": [
        "\n",
        "Linear RMSE 2: 1.58856486579"
       ]
      },
      {
       "output_type": "stream",
       "stream": "stdout",
       "text": [
        "\n",
        "Circular RMSE 3: 1.54529323683"
       ]
      },
      {
       "output_type": "stream",
       "stream": "stdout",
       "text": [
        "\n",
        "Linear RMSE 3: 1.71190354272"
       ]
      },
      {
       "output_type": "stream",
       "stream": "stdout",
       "text": [
        "\n",
        "Circular RMSE 4: 1.54126959186"
       ]
      },
      {
       "output_type": "stream",
       "stream": "stdout",
       "text": [
        "\n",
        "Linear RMSE 4: 1.54459803679"
       ]
      },
      {
       "output_type": "stream",
       "stream": "stdout",
       "text": [
        "\n",
        "Circular RMSE 5: 1.51207894976"
       ]
      },
      {
       "output_type": "stream",
       "stream": "stdout",
       "text": [
        "\n",
        "Linear RMSE 5: 1.76205080281"
       ]
      },
      {
       "output_type": "stream",
       "stream": "stdout",
       "text": [
        "\n",
        "8559\n",
        "RMSE Circular: 1.502777527\n",
        "RMSE Linear: 1.72453716491\n"
       ]
      }
     ],
     "prompt_number": 9
    },
    {
     "cell_type": "code",
     "collapsed": false,
     "input": [],
     "language": "python",
     "metadata": {},
     "outputs": []
    }
   ],
   "metadata": {}
  }
 ]
}