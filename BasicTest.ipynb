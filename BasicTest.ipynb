{
 "metadata": {
  "name": ""
 },
 "nbformat": 3,
 "nbformat_minor": 0,
 "worksheets": [
  {
   "cells": [
    {
     "cell_type": "code",
     "collapsed": false,
     "input": [
      "import pickle\n",
      "import numpy as np\n",
      "import pandas as pd\n",
      "import pickle\n",
      "from evaluator import evaluate_dataset_raw, evaluate_dataset_raw_no_tree\n",
      "import json\n",
      "\n",
      "airports = ['yssy', 'egll', 'zbaa']\n",
      "airports = ['yssy']\n",
      "class_vars = ['metar_wind_spd', 'metar_rh']\n",
      "\n",
      "for airport in airports:\n",
      "    for class_var in class_vars:\n",
      "        raw_error = []\n",
      "        raw_cir_error = []\n",
      "        raw_lin_error = []\n",
      "        for i in range(1,6):\n",
      "            test_df = pickle.load(open(\"/home/roz016/Dropbox/Data for Tree/Results/cx5_lin_vs_cir_bin100_2/{}_{}_bin100_cx{}_testdf.pick\".format(airport, class_var, i), \"rb\"))\n",
      "            cir_tree = pickle.load(open(\"/home/roz016/Dropbox/Data for Tree/Results/cx5_lin_vs_cir_bin100_2/{}_{}_circular_bin100_cx{}_tree.pick\".format(airport, class_var, i), \"rb\"))\n",
      "            lin_tree = pickle.load(open(\"/home/roz016/Dropbox/Data for Tree/Results/cx5_lin_vs_cir_bin100_2/{}_{}_linear_bin100_cx{}_tree.pick\".format(airport, class_var, i), \"rb\"))\n",
      "            raw_error.extend(evaluate_dataset_raw_no_tree(class_var, 'gfs' + class_var[5:], test_df))\n",
      "            raw_cir_error.extend(evaluate_dataset_raw(class_var, cir_tree, test_df))\n",
      "            raw_lin_error.extend(evaluate_dataset_raw(class_var, lin_tree, test_df))\n",
      "            \n",
      "            #print(\"Circular RMSE {}: {}\".format(i, evaluate_dataset_rmse(class_var, cir_tree, test_df)))\n",
      "            #print(\"Circular MAE {}: {}\".format(i, evaluate_dataset_mae(class_var, cir_tree, test_df)))\n",
      "            #print(\"Linear RMSE {}: {}\".format(i, evaluate_dataset_rmse(class_var, lin_tree, test_df)))\n",
      "            #print(\"Linear MAE {}: {}\".format(i, evaluate_dataset_mae(class_var, lin_tree, test_df)))\n",
      "\n",
      "        print(len(raw_cir_error))\n",
      "        print(\"RMSE raw: {}\".format(np.sqrt(np.mean([i ** 2 for i in raw_error]))))\n",
      "        print(\"RMSE Circular: {}\".format(np.sqrt(np.mean([i ** 2 for i in raw_cir_error]))))\n",
      "        print(\"RMSE Linear: {}\".format(np.sqrt(np.mean([i ** 2 for i in raw_lin_error]))))\n",
      "            "
     ],
     "language": "python",
     "metadata": {},
     "outputs": [
      {
       "output_type": "stream",
       "stream": "stdout",
       "text": [
        "8560\n",
        "RMSE raw: 3.27589641902\n",
        "RMSE Circular: 1.6940653827\n",
        "RMSE Linear: 1.80874602059\n",
        "8560"
       ]
      },
      {
       "output_type": "stream",
       "stream": "stdout",
       "text": [
        "\n",
        "RMSE raw: 14.2291725472\n",
        "RMSE Circular: 10.2437544551\n",
        "RMSE Linear: 11.0809865923\n"
       ]
      }
     ],
     "prompt_number": 1
    },
    {
     "cell_type": "code",
     "collapsed": false,
     "input": [
      "import pickle\n",
      "import numpy as np\n",
      "import pandas as pd\n",
      "import pickle\n",
      "from evaluator import evaluate_dataset_raw, evaluate_dataset_raw_no_tree\n",
      "from regressor import get_multilinear_regression, get_simple_linear_regression2\n",
      "import json\n",
      "\n",
      "airports = ['yssy', 'egll', 'zbaa']\n",
      "#airports = ['yssy']\n",
      "class_vars = ['metar_wind_spd', 'metar_rh', 'metar_temp']\n",
      "X = ['gfs_wind_spd', 'gfs_wind_dir', 'gfs_rh', 'gfs_temp', 'gfs_press']\n",
      "#class_vars = ['metar_wind_spd']\n",
      "\n",
      "for airport in airports:\n",
      "    for class_var in class_vars:\n",
      "        raw_error_test = []\n",
      "        raw_regression_error = []\n",
      "        raw_multiregression_error = []\n",
      "        raw_cir_error_test = []\n",
      "        raw_lin_error_test = []\n",
      "    \n",
      "        for i in range(1,6):\n",
      "            test_df = pickle.load(open(\"/Users/SmartWombat/Dropbox/Data for Tree/Results/cx5_lin_vs_cir_bin100_3/{}_{}_bin100_cx{}_testdf.pick\".format(airport, class_var, i), \"rb\"))\n",
      "            train_df = pickle.load(open(\"/Users/SmartWombat/Dropbox/Data for Tree/Results/cx5_lin_vs_cir_bin100_3/{}_{}_bin100_cx{}_traindf.pick\".format(airport, class_var, i), \"rb\"))\n",
      "            \n",
      "            cir_tree = pickle.load(open(\"/Users/SmartWombat/Dropbox/Data for Tree/Results/cx5_lin_vs_cir_bin100_3/{}_{}_circular_bin100_cx{}_tree.pick\".format(airport, class_var, i), \"rb\"))\n",
      "            lin_tree = pickle.load(open(\"/Users/SmartWombat/Dropbox/Data for Tree/Results/cx5_lin_vs_cir_bin100_3/{}_{}_linear_bin100_cx{}_tree.pick\".format(airport, class_var, i), \"rb\"))\n",
      "            raw_error_test.extend(evaluate_dataset_raw_no_tree(class_var, 'gfs' + class_var[5:], test_df))\n",
      "            raw_regression_error.extend(get_simple_linear_regression2(test_df, train_df, class_var, 'gfs' + class_var[5:]))\n",
      "            raw_multiregression_error.extend(get_multilinear_regression(test_df, train_df, class_var, X))\n",
      "            raw_cir_error_test.extend(evaluate_dataset_raw(class_var, cir_tree, test_df))\n",
      "            raw_lin_error_test.extend(evaluate_dataset_raw(class_var, lin_tree, test_df))\n",
      "\n",
      "            \n",
      "        print(\"Airport: {} Class var: {}\".format(airport, class_var))\n",
      "        print(\"Test RMSE Raw: {}\".format(np.sqrt(np.mean([i ** 2 for i in raw_error_test]))))\n",
      "        print(\"Test RMSE Regression: {}\".format(np.sqrt(np.mean([i ** 2 for i in raw_regression_error]))))\n",
      "        print(\"Test RMSE MultiRegression: {}\".format(np.sqrt(np.mean([i ** 2 for i in raw_multiregression_error]))))\n",
      "        print(\"Test RMSE Circular: {}\".format(np.sqrt(np.mean([i ** 2 for i in raw_cir_error_test]))))\n",
      "        print(\"Test RMSE Linear: {}\".format(np.sqrt(np.mean([i ** 2 for i in raw_lin_error_test]))))\n",
      "            "
     ],
     "language": "python",
     "metadata": {},
     "outputs": [
      {
       "output_type": "stream",
       "stream": "stdout",
       "text": [
        "Airport: yssy Class var: metar_wind_spd\n",
        "Test RMSE Raw: 3.27589641902\n",
        "Test RMSE Regression: 1.75652696459\n",
        "Test RMSE MultiRegression: 1.69851794444\n",
        "Test RMSE Circular: 1.67097944536"
       ]
      },
      {
       "output_type": "stream",
       "stream": "stdout",
       "text": [
        "\n",
        "Test RMSE Linear: 1.77151984214\n",
        "Airport: yssy Class var: metar_rh"
       ]
      },
      {
       "output_type": "stream",
       "stream": "stdout",
       "text": [
        "\n",
        "Test RMSE Raw: 14.2291725472\n",
        "Test RMSE Regression: 11.4721709245\n",
        "Test RMSE MultiRegression: 10.6511882707\n",
        "Test RMSE Circular: 10.2649321222"
       ]
      },
      {
       "output_type": "stream",
       "stream": "stdout",
       "text": [
        "\n",
        "Test RMSE Linear: 11.2405208008\n",
        "Airport: yssy Class var: metar_temp"
       ]
      },
      {
       "output_type": "stream",
       "stream": "stdout",
       "text": [
        "\n",
        "Test RMSE Raw: 2.52542197825\n",
        "Test RMSE Regression: 1.75405547662\n",
        "Test RMSE MultiRegression: 1.65200202591\n",
        "Test RMSE Circular: 1.4742484149"
       ]
      },
      {
       "output_type": "stream",
       "stream": "stdout",
       "text": [
        "\n",
        "Test RMSE Linear: 1.98049930404\n",
        "Airport: egll Class var: metar_wind_spd"
       ]
      },
      {
       "output_type": "stream",
       "stream": "stdout",
       "text": [
        "\n",
        "Test RMSE Raw: 1.37255559499\n",
        "Test RMSE Regression: 1.33373412524\n",
        "Test RMSE MultiRegression: 1.23264399984\n",
        "Test RMSE Circular: 1.12459353312\n",
        "Test RMSE Linear: 1.28539416183"
       ]
      },
      {
       "output_type": "stream",
       "stream": "stdout",
       "text": [
        "\n",
        "Airport: egll Class var: metar_rh"
       ]
      },
      {
       "output_type": "stream",
       "stream": "stdout",
       "text": [
        "\n",
        "Test RMSE Raw: 14.0952714235\n",
        "Test RMSE Regression: 10.3233994139\n",
        "Test RMSE MultiRegression: 10.2189013998\n",
        "Test RMSE Circular: 8.58998543449"
       ]
      },
      {
       "output_type": "stream",
       "stream": "stdout",
       "text": [
        "\n",
        "Test RMSE Linear: 12.2396136447\n",
        "Airport: egll Class var: metar_temp"
       ]
      },
      {
       "output_type": "stream",
       "stream": "stdout",
       "text": [
        "\n",
        "Test RMSE Raw: 2.36178974897\n",
        "Test RMSE Regression: 1.75536199283\n",
        "Test RMSE MultiRegression: 1.67246251857\n",
        "Test RMSE Circular: 1.51019070962"
       ]
      },
      {
       "output_type": "stream",
       "stream": "stdout",
       "text": [
        "\n",
        "Test RMSE Linear: 2.20211854885\n",
        "Airport: zbaa Class var: metar_wind_spd"
       ]
      },
      {
       "output_type": "stream",
       "stream": "stdout",
       "text": [
        "\n",
        "Test RMSE Raw: 1.72799852751\n",
        "Test RMSE Regression: 1.5653323098\n",
        "Test RMSE MultiRegression: 1.54277114931\n",
        "Test RMSE Circular: 1.51222987115"
       ]
      },
      {
       "output_type": "stream",
       "stream": "stdout",
       "text": [
        "\n",
        "Test RMSE Linear: 1.81282719166\n",
        "Airport: zbaa Class var: metar_rh"
       ]
      },
      {
       "output_type": "stream",
       "stream": "stdout",
       "text": [
        "\n",
        "Test RMSE Raw: 16.8520697904\n",
        "Test RMSE Regression: 15.4636206426\n",
        "Test RMSE MultiRegression: 14.811666738\n",
        "Test RMSE Circular: 13.9619671481"
       ]
      },
      {
       "output_type": "stream",
       "stream": "stdout",
       "text": [
        "\n",
        "Test RMSE Linear: 16.5347808531\n",
        "Airport: zbaa Class var: metar_temp"
       ]
      },
      {
       "output_type": "stream",
       "stream": "stdout",
       "text": [
        "\n",
        "Test RMSE Raw: 2.62316139606\n",
        "Test RMSE Regression: 2.53926333798\n",
        "Test RMSE MultiRegression: 2.4546665866\n",
        "Test RMSE Circular: 2.25382746589"
       ]
      },
      {
       "output_type": "stream",
       "stream": "stdout",
       "text": [
        "\n",
        "Test RMSE Linear: 2.87005127908\n"
       ]
      }
     ],
     "prompt_number": 1
    },
    {
     "cell_type": "code",
     "collapsed": false,
     "input": [
      "import pickle\n",
      "import numpy as np\n",
      "import pandas as pd\n",
      "import pickle\n",
      "from evaluator import evaluate_dataset_raw, evaluate_dataset_rmse, evaluate_dataset_mae\n",
      "import json\n",
      "\n",
      "airports = ['yssy']\n",
      "class_vars = ['metar_wind_dir']\n",
      "\n",
      "for airport in airports:\n",
      "    for class_var in class_vars:\n",
      "        raw_cir_cir_error_test = []\n",
      "        raw_lin_cir_error_test = []\n",
      "        raw_cir_cir_error_train = []\n",
      "        raw_lin_cir_error_train = []\n",
      "        raw_cir_lin_error_test = []\n",
      "        raw_lin_lin_error_test = []\n",
      "        raw_cir_lin_error_train = []\n",
      "        raw_lin_lin_error_train = []\n",
      "        for i in range(1,6):\n",
      "            test_df = pickle.load(open(\"/home/roz016/Dropbox/Data for Tree/Results/cx5_lin_vs_cir_bin100_3/{}_{}_bin100_cx{}_testdf.pick\".format(airport, class_var, i), \"rb\"))\n",
      "            train_df = pickle.load(open(\"/home/roz016/Dropbox/Data for Tree/Results/cx5_lin_vs_cir_bin100_3/{}_{}_bin100_cx{}_traindf.pick\".format(airport, class_var, i), \"rb\"))\n",
      "            cir_cir_tree = pickle.load(open(\"/home/roz016/Dropbox/Data for Tree/Results/cx5_lin_vs_cir_bin100_3/{}_{}_circular_gfs_circular_bin100_cx{}_tree.pick\".format(airport, class_var, i), \"rb\"))\n",
      "            lin_cir_tree = pickle.load(open(\"/home/roz016/Dropbox/Data for Tree/Results/cx5_lin_vs_cir_bin100_3/{}_{}_linear_gfs_circular_bin100_cx{}_tree.pick\".format(airport, class_var, i), \"rb\"))\n",
      "            cir_lin_tree = pickle.load(open(\"/home/roz016/Dropbox/Data for Tree/Results/cx5_lin_vs_cir_bin100_3/{}_{}_circular_gfs_linear_bin100_cx{}_tree.pick\".format(airport, class_var, i), \"rb\"))\n",
      "            lin_lin_tree = pickle.load(open(\"/home/roz016/Dropbox/Data for Tree/Results/cx5_lin_vs_cir_bin100_3/{}_{}_linear_gfs_linear_bin100_cx{}_tree.pick\".format(airport, class_var, i), \"rb\"))\n",
      "            \n",
      "            \n",
      "            raw_cir_cir_error_test.extend(evaluate_dataset_raw(class_var, cir_cir_tree, test_df))\n",
      "            raw_lin_cir_error_test.extend(evaluate_dataset_raw(class_var, lin_cir_tree, test_df))\n",
      "            raw_cir_cir_error_train.extend(evaluate_dataset_raw(class_var, cir_cir_tree, train_df))\n",
      "            raw_lin_cir_error_train.extend(evaluate_dataset_raw(class_var, lin_cir_tree, train_df))\n",
      "            raw_cir_lin_error_test.extend(evaluate_dataset_raw(class_var, cir_lin_tree, test_df))\n",
      "            raw_lin_lin_error_test.extend(evaluate_dataset_raw(class_var, lin_lin_tree, test_df))\n",
      "            raw_cir_lin_error_train.extend(evaluate_dataset_raw(class_var, cir_lin_tree, train_df))\n",
      "            raw_lin_lin_error_train.extend(evaluate_dataset_raw(class_var, lin_lin_tree, train_df))\n",
      "            \n",
      "\n",
      "        print(\"Airport: {} Class var: {}\".format(airport, class_var))\n",
      "        print(\"Train RMSE Circular Circular: {}\".format(np.sqrt(np.mean([i ** 2 for i in raw_cir_cir_error_train]))))\n",
      "        print(\"Train RMSE Linear Circular: {}\".format(np.sqrt(np.mean([i ** 2 for i in raw_lin_cir_error_train]))))\n",
      "        print(\"Test RMSE Circular Circular: {}\".format(np.sqrt(np.mean([i ** 2 for i in raw_cir_cir_error_test]))))\n",
      "        print(\"Test RMSE Linear Circular: {}\".format(np.sqrt(np.mean([i ** 2 for i in raw_lin_cir_error_test]))))\n",
      "        print(\"Train RMSE Circular Linear: {}\".format(np.sqrt(np.mean([i ** 2 for i in raw_cir_lin_error_train]))))\n",
      "        print(\"Train RMSE Linear Linear: {}\".format(np.sqrt(np.mean([i ** 2 for i in raw_lin_lin_error_train]))))\n",
      "        print(\"Test RMSE Circular Linear: {}\".format(np.sqrt(np.mean([i ** 2 for i in raw_cir_lin_error_test]))))\n",
      "        print(\"Test RMSE Linear Linear: {}\".format(np.sqrt(np.mean([i ** 2 for i in raw_lin_lin_error_test]))))\n",
      "            "
     ],
     "language": "python",
     "metadata": {},
     "outputs": [
      {
       "output_type": "stream",
       "stream": "stdout",
       "text": [
        "Airport: yssy Class var: metar_wind_dir\n",
        "Train RMSE Circular Circular: 81.0430588622\n",
        "Train RMSE Linear Circular: 63.3637677189"
       ]
      },
      {
       "output_type": "stream",
       "stream": "stdout",
       "text": [
        "\n",
        "Test RMSE Circular Circular: 86.7764739617\n",
        "Test RMSE Linear Circular: 71.7361005689\n",
        "Train RMSE Circular Linear: 88.3463991472\n",
        "Train RMSE Linear Linear: 71.2205602684"
       ]
      },
      {
       "output_type": "stream",
       "stream": "stdout",
       "text": [
        "\n",
        "Test RMSE Circular Linear: 91.0389623696\n",
        "Test RMSE Linear Linear: 75.1211213003\n"
       ]
      }
     ],
     "prompt_number": 21
    },
    {
     "cell_type": "code",
     "collapsed": false,
     "input": [
      "import numpy as np\n",
      "import math\n",
      "\n",
      "def circular_variance(lista):\n",
      "\n",
      "    x = y = 0.0\n",
      "    for value in lista:\n",
      "        x += math.cos(math.radians(value))\n",
      "        y += math.sin(math.radians(value))\n",
      "\n",
      "    return 1 - math.sqrt(math.pow(x/len(lista), 2) + math.pow(y/len(lista), 2))\n",
      "\n",
      "def circular_variance2(lista):\n",
      "    \n",
      "    x = np.sum(np.cos(np.radians(lista)))\n",
      "    y = np.sum(np.sin(np.radians(lista)))\n",
      "    \n",
      "\n",
      "    return 1 - math.sqrt(math.pow(x/len(lista), 2) + math.pow(y/len(lista), 2))\n",
      "\n",
      "a = [10,20,30]\n",
      "\n",
      "print(circular_variance(a))\n",
      "print(circular_variance2(a))"
     ],
     "language": "python",
     "metadata": {},
     "outputs": [
      {
       "output_type": "stream",
       "stream": "stdout",
       "text": [
        "0.0101281646585\n",
        "0.0101281646585\n"
       ]
      }
     ],
     "prompt_number": 14
    },
    {
     "cell_type": "code",
     "collapsed": false,
     "input": [],
     "language": "python",
     "metadata": {},
     "outputs": [
      {
       "metadata": {},
       "output_type": "pyout",
       "prompt_number": 12,
       "text": [
        "[1, 2, 3, 4, 3]"
       ]
      }
     ],
     "prompt_number": 12
    },
    {
     "cell_type": "code",
     "collapsed": false,
     "input": [
      "import matplotlib.pyplot as plt\n",
      "import numpy as np\n",
      "from sklearn import datasets, linear_model\n",
      "\n",
      "# Load the diabetes dataset\n",
      "diabetes = datasets.load_diabetes()\n",
      "\n",
      "for i in range(1,6):\n",
      "    test_df = pickle.load(open(\"/Users/SmartWombat/Dropbox/Data for Tree/Results/cx5_lin_vs_cir_bin100_3/{}_{}_bin100_cx{}_testdf.pick\".format(airport, class_var, i), \"rb\"))\n",
      "    train_df = pickle.load(open(\"/Users/SmartWombat/Dropbox/Data for Tree/Results/cx5_lin_vs_cir_bin100_3/{}_{}_bin100_cx{}_traindf.pick\".format(airport, class_var, i), \"rb\"))\n",
      "\n",
      "airport_y_train = train_df[\"\"]\n",
      "airport_y_test\n",
      "\n",
      "# Use only one feature\n",
      "diabetes_X = diabetes.data[:, np.newaxis]\n",
      "diabetes_X_temp = diabetes_X[:, :, 2]\n",
      "\n",
      "# Split the data into training/testing sets\n",
      "diabetes_X_train = diabetes_X_temp[:-20]\n",
      "diabetes_X_test = diabetes_X_temp[-20:]\n",
      "\n",
      "# Split the targets into training/testing sets\n",
      "diabetes_y_train = diabetes.target[:-20]\n",
      "diabetes_y_test = diabetes.target[-20:]\n",
      "\n",
      "# Create linear regression object\n",
      "regr = linear_model.LinearRegression()\n",
      "\n",
      "# Train the model using the training sets\n",
      "regr.fit(diabetes_X_train, diabetes_y_train)\n",
      "\n",
      "# The coefficients\n",
      "print('Coefficients: \\n', regr.coef_)\n",
      "# The mean square error\n",
      "print(\"Residual sum of squares: %.2f\"\n",
      "      % np.mean((regr.predict(diabetes_X_test) - diabetes_y_test) ** 2))\n",
      "# Explained variance score: 1 is perfect prediction\n",
      "print('Variance score: %.2f' % regr.score(diabetes_X_test, diabetes_y_test))\n",
      "\n",
      "# Plot outputs\n",
      "plt.scatter(diabetes_X_test, diabetes_y_test,  color='black')\n",
      "plt.plot(diabetes_X_test, regr.predict(diabetes_X_test), color='blue',\n",
      "         linewidth=3)\n",
      "\n",
      "plt.xticks(())\n",
      "plt.yticks(())\n",
      "\n",
      "plt.show()"
     ],
     "language": "python",
     "metadata": {},
     "outputs": [
      {
       "output_type": "stream",
       "stream": "stdout",
       "text": [
        "('Coefficients: \\n', array([ 938.23786125]))\n",
        "Residual sum of squares: 2548.07\n",
        "Variance score: 0.47\n"
       ]
      },
      {
       "metadata": {},
       "output_type": "display_data",
       "png": "[encoded data removed]",
       "text": [
        "<matplotlib.figure.Figure at 0x10766ad50>"
       ]
      }
     ],
     "prompt_number": 1
    },
    {
     "cell_type": "code",
     "collapsed": false,
     "input": [],
     "language": "python",
     "metadata": {},
     "outputs": []
    }
   ],
   "metadata": {}
  }
 ]
}