{
 "metadata": {
  "name": ""
 },
 "nbformat": 3,
 "nbformat_minor": 0,
 "worksheets": [
  {
   "cells": [
    {
     "cell_type": "code",
     "collapsed": false,
     "input": [
      "import pickle\n",
      "import numpy as np\n",
      "import pandas as pd\n",
      "import pickle\n",
      "from evaluator import evaluate_dataset_raw, evaluate_dataset_rmse, evaluate_dataset_mae\n",
      "import json\n",
      "\n",
      "airports = ['yssy', 'egll', 'zbaa']\n",
      "airports = ['yssy']\n",
      "class_vars = ['metar_wind_spd', 'metar_rh']\n",
      "\n",
      "for airport in airports:\n",
      "    for class_var in class_vars:\n",
      "        raw_cir_error = []\n",
      "        raw_lin_error = []\n",
      "        for i in range(1,6):\n",
      "            test_df = pickle.load(open(\"/home/roz016/Dropbox/Data for Tree/Results/cx5_lin_vs_cir_bin100_2/{}_{}_bin100_cx{}_testdf.pick\".format(airport, class_var, i), \"rb\"))\n",
      "            cir_tree = pickle.load(open(\"/home/roz016/Dropbox/Data for Tree/Results/cx5_lin_vs_cir_bin100_2/{}_{}_circular_bin100_cx{}_tree.pick\".format(airport, class_var, i), \"rb\"))\n",
      "            lin_tree = pickle.load(open(\"/home/roz016/Dropbox/Data for Tree/Results/cx5_lin_vs_cir_bin100_2/{}_{}_linear_bin100_cx{}_tree.pick\".format(airport, class_var, i), \"rb\"))\n",
      "            raw_cir_error.extend(evaluate_dataset_raw(class_var, cir_tree, test_df))\n",
      "            raw_lin_error.extend(evaluate_dataset_raw(class_var, lin_tree, test_df))\n",
      "            \n",
      "            print(\"Circular RMSE {}: {}\".format(i, evaluate_dataset_rmse(class_var, cir_tree, test_df)))\n",
      "            #print(\"Circular MAE {}: {}\".format(i, evaluate_dataset_mae(class_var, cir_tree, test_df)))\n",
      "            print(\"Linear RMSE {}: {}\".format(i, evaluate_dataset_rmse(class_var, lin_tree, test_df)))\n",
      "            #print(\"Linear MAE {}: {}\".format(i, evaluate_dataset_mae(class_var, lin_tree, test_df)))\n",
      "\n",
      "        print(len(raw_cir_error))\n",
      "        print(\"RMSE Circular: {}\".format(np.sqrt(np.mean([i ** 2 for i in raw_cir_error]))))\n",
      "        print(\"RMSE Linear: {}\".format(np.sqrt(np.mean([i ** 2 for i in raw_lin_error]))))\n",
      "            "
     ],
     "language": "python",
     "metadata": {},
     "outputs": [
      {
       "output_type": "stream",
       "stream": "stdout",
       "text": [
        "Circular RMSE 1: 1.64572974906\n",
        "Linear RMSE 1: 1.7817725735"
       ]
      },
      {
       "output_type": "stream",
       "stream": "stdout",
       "text": [
        "\n",
        "Circular RMSE 2: 1.71797129589"
       ]
      },
      {
       "output_type": "stream",
       "stream": "stdout",
       "text": [
        "\n",
        "Linear RMSE 2: 1.88390700853"
       ]
      },
      {
       "output_type": "stream",
       "stream": "stdout",
       "text": [
        "\n",
        "Circular RMSE 3: 1.71375237034"
       ]
      },
      {
       "output_type": "stream",
       "stream": "stdout",
       "text": [
        "\n",
        "Linear RMSE 3: 1.8605361534"
       ]
      },
      {
       "output_type": "stream",
       "stream": "stdout",
       "text": [
        "\n",
        "Circular RMSE 4: 1.69408619062"
       ]
      },
      {
       "output_type": "stream",
       "stream": "stdout",
       "text": [
        "\n",
        "Linear RMSE 4: 1.72134314852"
       ]
      },
      {
       "output_type": "stream",
       "stream": "stdout",
       "text": [
        "\n",
        "Circular RMSE 5: 1.70096285813"
       ]
      },
      {
       "output_type": "stream",
       "stream": "stdout",
       "text": [
        "\n",
        "Linear RMSE 5: 1.7914727744"
       ]
      },
      {
       "output_type": "stream",
       "stream": "stdout",
       "text": [
        "\n",
        "8560\n",
        "RMSE Circular: 1.69469770952\n",
        "RMSE Linear: 1.80874602059\n",
        "Circular RMSE 1: 10.1237045171"
       ]
      },
      {
       "output_type": "stream",
       "stream": "stdout",
       "text": [
        "\n",
        "Linear RMSE 1: 11.1048085822"
       ]
      },
      {
       "output_type": "stream",
       "stream": "stdout",
       "text": [
        "\n",
        "Circular RMSE 2: 10.1162861352"
       ]
      },
      {
       "output_type": "stream",
       "stream": "stdout",
       "text": [
        "\n",
        "Linear RMSE 2: 10.8805040704"
       ]
      },
      {
       "output_type": "stream",
       "stream": "stdout",
       "text": [
        "\n",
        "Circular RMSE 3: 10.0804471261"
       ]
      },
      {
       "output_type": "stream",
       "stream": "stdout",
       "text": [
        "\n",
        "Linear RMSE 3: 11.1170493558"
       ]
      },
      {
       "output_type": "stream",
       "stream": "stdout",
       "text": [
        "\n",
        "Circular RMSE 4: 9.84773517843"
       ]
      },
      {
       "output_type": "stream",
       "stream": "stdout",
       "text": [
        "\n",
        "Linear RMSE 4: 10.960564506"
       ]
      },
      {
       "output_type": "stream",
       "stream": "stdout",
       "text": [
        "\n",
        "Circular RMSE 5: 10.8141897857"
       ]
      },
      {
       "output_type": "stream",
       "stream": "stdout",
       "text": [
        "\n",
        "Linear RMSE 5: 11.3365081113"
       ]
      },
      {
       "output_type": "stream",
       "stream": "stdout",
       "text": [
        "\n",
        "8560\n",
        "RMSE Circular: 10.2016532135\n",
        "RMSE Linear: 11.0809865923\n"
       ]
      }
     ],
     "prompt_number": 7
    },
    {
     "cell_type": "code",
     "collapsed": false,
     "input": [
      "import pickle\n",
      "import numpy as np\n",
      "import pandas as pd\n",
      "import pickle\n",
      "from evaluator import evaluate_dataset_raw, evaluate_dataset_rmse, evaluate_dataset_mae\n",
      "import json\n",
      "\n",
      "airports = ['yssy', 'egll', 'zbaa']\n",
      "class_vars = ['metar_wind_spd', 'metar_rh']\n",
      "\n",
      "for airport in airports:\n",
      "    for class_var in class_vars:\n",
      "        raw_cir_error_test = []\n",
      "        raw_lin_error_test = []\n",
      "        raw_cir_error_train = []\n",
      "        raw_lin_error_train = []\n",
      "        for i in range(1,6):\n",
      "            test_df = pickle.load(open(\"/home/roz016/Dropbox/Data for Tree/Results/cx5_lin_vs_cir_bin100_3/{}_{}_bin100_cx{}_testdf.pick\".format(airport, class_var, i), \"rb\"))\n",
      "            train_df = pickle.load(open(\"/home/roz016/Dropbox/Data for Tree/Results/cx5_lin_vs_cir_bin100_3/{}_{}_bin100_cx{}_traindf.pick\".format(airport, class_var, i), \"rb\"))\n",
      "            cir_tree = pickle.load(open(\"/home/roz016/Dropbox/Data for Tree/Results/cx5_lin_vs_cir_bin100_3/{}_{}_circular_bin100_cx{}_tree.pick\".format(airport, class_var, i), \"rb\"))\n",
      "            lin_tree = pickle.load(open(\"/home/roz016/Dropbox/Data for Tree/Results/cx5_lin_vs_cir_bin100_3/{}_{}_linear_bin100_cx{}_tree.pick\".format(airport, class_var, i), \"rb\"))\n",
      "            raw_cir_error_test.extend(evaluate_dataset_raw(class_var, cir_tree, test_df))\n",
      "            raw_lin_error_test.extend(evaluate_dataset_raw(class_var, lin_tree, test_df))\n",
      "            raw_cir_error_train.extend(evaluate_dataset_raw(class_var, cir_tree, train_df))\n",
      "            raw_lin_error_train.extend(evaluate_dataset_raw(class_var, lin_tree, train_df))\n",
      "            \n",
      "\n",
      "        print(\"Airport: {} Class var: {}\".format(airport, class_var))\n",
      "        print(\"Train RMSE Circular: {}\".format(np.sqrt(np.mean([i ** 2 for i in raw_cir_error_train]))))\n",
      "        print(\"Train RMSE Linear: {}\".format(np.sqrt(np.mean([i ** 2 for i in raw_lin_error_train]))))\n",
      "        print(\"Test RMSE Circular: {}\".format(np.sqrt(np.mean([i ** 2 for i in raw_cir_error_test]))))\n",
      "        print(\"Test RMSE Linear: {}\".format(np.sqrt(np.mean([i ** 2 for i in raw_lin_error_test]))))\n",
      "            "
     ],
     "language": "python",
     "metadata": {},
     "outputs": [
      {
       "output_type": "stream",
       "stream": "stdout",
       "text": [
        "Airport: yssy Class var: metar_wind_spd\n",
        "Train RMSE Circular: 1.42900823991\n",
        "Train RMSE Linear: 1.65557708284"
       ]
      },
      {
       "output_type": "stream",
       "stream": "stdout",
       "text": [
        "\n",
        "Test RMSE Circular: 1.67406444996\n",
        "Test RMSE Linear: 1.77151984214\n",
        "Airport: yssy Class var: metar_rh"
       ]
      },
      {
       "output_type": "stream",
       "stream": "stdout",
       "text": [
        "\n",
        "Train RMSE Circular: 8.90955346067\n",
        "Train RMSE Linear: 10.5149247735"
       ]
      },
      {
       "output_type": "stream",
       "stream": "stdout",
       "text": [
        "\n",
        "Test RMSE Circular: 10.276847631\n",
        "Test RMSE Linear: 11.2405208008\n",
        "Airport: egll Class var: metar_wind_spd"
       ]
      },
      {
       "output_type": "stream",
       "stream": "stdout",
       "text": [
        "\n",
        "Train RMSE Circular: 1.01252762582\n",
        "Train RMSE Linear: 1.2284521229"
       ]
      },
      {
       "output_type": "stream",
       "stream": "stdout",
       "text": [
        "\n",
        "Test RMSE Circular: 1.12346379867\n",
        "Test RMSE Linear: 1.28539416183\n",
        "Airport: egll Class var: metar_rh"
       ]
      },
      {
       "output_type": "stream",
       "stream": "stdout",
       "text": [
        "\n",
        "Train RMSE Circular: 7.65969955274\n",
        "Train RMSE Linear: 12.045510892"
       ]
      },
      {
       "output_type": "stream",
       "stream": "stdout",
       "text": [
        "\n",
        "Test RMSE Circular: 8.59651179505\n",
        "Test RMSE Linear: 12.2396136447\n",
        "Airport: zbaa Class var: metar_wind_spd"
       ]
      },
      {
       "output_type": "stream",
       "stream": "stdout",
       "text": [
        "\n",
        "Train RMSE Circular: 1.31423269975\n",
        "Train RMSE Linear: 1.71560794203"
       ]
      },
      {
       "ename": "IOError",
       "evalue": "[Errno 2] No such file or directory: '/home/roz016/Dropbox/Data for Tree/Results/cx5_lin_vs_cir_bin100_3/zbaa_metar_rh_circular_bin100_cx5_tree.pick'",
       "output_type": "pyerr",
       "traceback": [
        "\u001b[1;31m---------------------------------------------------------------------------\u001b[0m\n\u001b[1;31mIOError\u001b[0m                                   Traceback (most recent call last)",
        "\u001b[1;32m<ipython-input-17-cabac5c1b36a>\u001b[0m in \u001b[0;36m<module>\u001b[1;34m()\u001b[0m\n\u001b[0;32m     18\u001b[0m             \u001b[0mtest_df\u001b[0m \u001b[1;33m=\u001b[0m \u001b[0mpickle\u001b[0m\u001b[1;33m.\u001b[0m\u001b[0mload\u001b[0m\u001b[1;33m(\u001b[0m\u001b[0mopen\u001b[0m\u001b[1;33m(\u001b[0m\u001b[1;34m\"/home/roz016/Dropbox/Data for Tree/Results/cx5_lin_vs_cir_bin100_3/{}_{}_bin100_cx{}_testdf.pick\"\u001b[0m\u001b[1;33m.\u001b[0m\u001b[0mformat\u001b[0m\u001b[1;33m(\u001b[0m\u001b[0mairport\u001b[0m\u001b[1;33m,\u001b[0m \u001b[0mclass_var\u001b[0m\u001b[1;33m,\u001b[0m \u001b[0mi\u001b[0m\u001b[1;33m)\u001b[0m\u001b[1;33m,\u001b[0m \u001b[1;34m\"rb\"\u001b[0m\u001b[1;33m)\u001b[0m\u001b[1;33m)\u001b[0m\u001b[1;33m\u001b[0m\u001b[0m\n\u001b[0;32m     19\u001b[0m             \u001b[0mtrain_df\u001b[0m \u001b[1;33m=\u001b[0m \u001b[0mpickle\u001b[0m\u001b[1;33m.\u001b[0m\u001b[0mload\u001b[0m\u001b[1;33m(\u001b[0m\u001b[0mopen\u001b[0m\u001b[1;33m(\u001b[0m\u001b[1;34m\"/home/roz016/Dropbox/Data for Tree/Results/cx5_lin_vs_cir_bin100_3/{}_{}_bin100_cx{}_traindf.pick\"\u001b[0m\u001b[1;33m.\u001b[0m\u001b[0mformat\u001b[0m\u001b[1;33m(\u001b[0m\u001b[0mairport\u001b[0m\u001b[1;33m,\u001b[0m \u001b[0mclass_var\u001b[0m\u001b[1;33m,\u001b[0m \u001b[0mi\u001b[0m\u001b[1;33m)\u001b[0m\u001b[1;33m,\u001b[0m \u001b[1;34m\"rb\"\u001b[0m\u001b[1;33m)\u001b[0m\u001b[1;33m)\u001b[0m\u001b[1;33m\u001b[0m\u001b[0m\n\u001b[1;32m---> 20\u001b[1;33m             \u001b[0mcir_tree\u001b[0m \u001b[1;33m=\u001b[0m \u001b[0mpickle\u001b[0m\u001b[1;33m.\u001b[0m\u001b[0mload\u001b[0m\u001b[1;33m(\u001b[0m\u001b[0mopen\u001b[0m\u001b[1;33m(\u001b[0m\u001b[1;34m\"/home/roz016/Dropbox/Data for Tree/Results/cx5_lin_vs_cir_bin100_3/{}_{}_circular_bin100_cx{}_tree.pick\"\u001b[0m\u001b[1;33m.\u001b[0m\u001b[0mformat\u001b[0m\u001b[1;33m(\u001b[0m\u001b[0mairport\u001b[0m\u001b[1;33m,\u001b[0m \u001b[0mclass_var\u001b[0m\u001b[1;33m,\u001b[0m \u001b[0mi\u001b[0m\u001b[1;33m)\u001b[0m\u001b[1;33m,\u001b[0m \u001b[1;34m\"rb\"\u001b[0m\u001b[1;33m)\u001b[0m\u001b[1;33m)\u001b[0m\u001b[1;33m\u001b[0m\u001b[0m\n\u001b[0m\u001b[0;32m     21\u001b[0m             \u001b[0mlin_tree\u001b[0m \u001b[1;33m=\u001b[0m \u001b[0mpickle\u001b[0m\u001b[1;33m.\u001b[0m\u001b[0mload\u001b[0m\u001b[1;33m(\u001b[0m\u001b[0mopen\u001b[0m\u001b[1;33m(\u001b[0m\u001b[1;34m\"/home/roz016/Dropbox/Data for Tree/Results/cx5_lin_vs_cir_bin100_3/{}_{}_linear_bin100_cx{}_tree.pick\"\u001b[0m\u001b[1;33m.\u001b[0m\u001b[0mformat\u001b[0m\u001b[1;33m(\u001b[0m\u001b[0mairport\u001b[0m\u001b[1;33m,\u001b[0m \u001b[0mclass_var\u001b[0m\u001b[1;33m,\u001b[0m \u001b[0mi\u001b[0m\u001b[1;33m)\u001b[0m\u001b[1;33m,\u001b[0m \u001b[1;34m\"rb\"\u001b[0m\u001b[1;33m)\u001b[0m\u001b[1;33m)\u001b[0m\u001b[1;33m\u001b[0m\u001b[0m\n\u001b[0;32m     22\u001b[0m             \u001b[0mraw_cir_error_test\u001b[0m\u001b[1;33m.\u001b[0m\u001b[0mextend\u001b[0m\u001b[1;33m(\u001b[0m\u001b[0mevaluate_dataset_raw\u001b[0m\u001b[1;33m(\u001b[0m\u001b[0mclass_var\u001b[0m\u001b[1;33m,\u001b[0m \u001b[0mcir_tree\u001b[0m\u001b[1;33m,\u001b[0m \u001b[0mtest_df\u001b[0m\u001b[1;33m)\u001b[0m\u001b[1;33m)\u001b[0m\u001b[1;33m\u001b[0m\u001b[0m\n",
        "\u001b[1;31mIOError\u001b[0m: [Errno 2] No such file or directory: '/home/roz016/Dropbox/Data for Tree/Results/cx5_lin_vs_cir_bin100_3/zbaa_metar_rh_circular_bin100_cx5_tree.pick'"
       ]
      },
      {
       "output_type": "stream",
       "stream": "stdout",
       "text": [
        "\n",
        "Test RMSE Circular: 1.51189004759\n",
        "Test RMSE Linear: 1.81282719166\n"
       ]
      }
     ],
     "prompt_number": 17
    },
    {
     "cell_type": "code",
     "collapsed": false,
     "input": [
      "import pickle\n",
      "import numpy as np\n",
      "import pandas as pd\n",
      "import pickle\n",
      "from evaluator import evaluate_dataset_raw, evaluate_dataset_rmse, evaluate_dataset_mae\n",
      "import json\n",
      "\n",
      "airports = ['yssy']\n",
      "class_vars = ['metar_wind_dir']\n",
      "\n",
      "for airport in airports:\n",
      "    for class_var in class_vars:\n",
      "        raw_cir_cir_error_test = []\n",
      "        raw_lin_cir_error_test = []\n",
      "        raw_cir_cir_error_train = []\n",
      "        raw_lin_cir_error_train = []\n",
      "        raw_cir_lin_error_test = []\n",
      "        raw_lin_lin_error_test = []\n",
      "        raw_cir_lin_error_train = []\n",
      "        raw_lin_lin_error_train = []\n",
      "        for i in range(1,6):\n",
      "            test_df = pickle.load(open(\"/home/roz016/Dropbox/Data for Tree/Results/cx5_lin_vs_cir_bin100_3/{}_{}_bin100_cx{}_testdf.pick\".format(airport, class_var, i), \"rb\"))\n",
      "            train_df = pickle.load(open(\"/home/roz016/Dropbox/Data for Tree/Results/cx5_lin_vs_cir_bin100_3/{}_{}_bin100_cx{}_traindf.pick\".format(airport, class_var, i), \"rb\"))\n",
      "            cir_cir_tree = pickle.load(open(\"/home/roz016/Dropbox/Data for Tree/Results/cx5_lin_vs_cir_bin100_3/{}_{}_circular_gfs_circular_bin100_cx{}_tree.pick\".format(airport, class_var, i), \"rb\"))\n",
      "            lin_cir_tree = pickle.load(open(\"/home/roz016/Dropbox/Data for Tree/Results/cx5_lin_vs_cir_bin100_3/{}_{}_linear_gfs_circular_bin100_cx{}_tree.pick\".format(airport, class_var, i), \"rb\"))\n",
      "            cir_lin_tree = pickle.load(open(\"/home/roz016/Dropbox/Data for Tree/Results/cx5_lin_vs_cir_bin100_3/{}_{}_circular_gfs_linear_bin100_cx{}_tree.pick\".format(airport, class_var, i), \"rb\"))\n",
      "            lin_lin_tree = pickle.load(open(\"/home/roz016/Dropbox/Data for Tree/Results/cx5_lin_vs_cir_bin100_3/{}_{}_linear_gfs_linear_bin100_cx{}_tree.pick\".format(airport, class_var, i), \"rb\"))\n",
      "            \n",
      "            \n",
      "            raw_cir_cir_error_test.extend(evaluate_dataset_raw(class_var, cir_cir_tree, test_df))\n",
      "            raw_lin_cir_error_test.extend(evaluate_dataset_raw(class_var, lin_cir_tree, test_df))\n",
      "            raw_cir_cir_error_train.extend(evaluate_dataset_raw(class_var, cir_cir_tree, train_df))\n",
      "            raw_lin_cir_error_train.extend(evaluate_dataset_raw(class_var, lin_cir_tree, train_df))\n",
      "            raw_cir_lin_error_test.extend(evaluate_dataset_raw(class_var, cir_lin_tree, test_df))\n",
      "            raw_lin_lin_error_test.extend(evaluate_dataset_raw(class_var, lin_lin_tree, test_df))\n",
      "            raw_cir_lin_error_train.extend(evaluate_dataset_raw(class_var, cir_lin_tree, train_df))\n",
      "            raw_lin_lin_error_train.extend(evaluate_dataset_raw(class_var, lin_lin_tree, train_df))\n",
      "            \n",
      "\n",
      "        print(\"Airport: {} Class var: {}\".format(airport, class_var))\n",
      "        print(\"Train RMSE Circular Circular: {}\".format(np.sqrt(np.mean([i ** 2 for i in raw_cir_cir_error_train]))))\n",
      "        print(\"Train RMSE Linear Circular: {}\".format(np.sqrt(np.mean([i ** 2 for i in raw_lin_cir_error_train]))))\n",
      "        print(\"Test RMSE Circular Circular: {}\".format(np.sqrt(np.mean([i ** 2 for i in raw_cir_cir_error_test]))))\n",
      "        print(\"Test RMSE Linear Circular: {}\".format(np.sqrt(np.mean([i ** 2 for i in raw_lin_cir_error_test]))))\n",
      "        print(\"Train RMSE Circular Linear: {}\".format(np.sqrt(np.mean([i ** 2 for i in raw_cir_lin_error_train]))))\n",
      "        print(\"Train RMSE Linear Linear: {}\".format(np.sqrt(np.mean([i ** 2 for i in raw_lin_lin_error_train]))))\n",
      "        print(\"Test RMSE Circular Linear: {}\".format(np.sqrt(np.mean([i ** 2 for i in raw_cir_lin_error_test]))))\n",
      "        print(\"Test RMSE Linear Linear: {}\".format(np.sqrt(np.mean([i ** 2 for i in raw_lin_lin_error_test]))))\n",
      "        \"\"\"\n",
      "            "
     ],
     "language": "python",
     "metadata": {},
     "outputs": []
    },
    {
     "cell_type": "code",
     "collapsed": false,
     "input": [
      "import numpy as np\n",
      "import math\n",
      "\n",
      "def circular_variance(lista):\n",
      "\n",
      "    x = y = 0.0\n",
      "    for value in lista:\n",
      "        x += math.cos(math.radians(value))\n",
      "        y += math.sin(math.radians(value))\n",
      "\n",
      "    return 1 - math.sqrt(math.pow(x/len(lista), 2) + math.pow(y/len(lista), 2))\n",
      "\n",
      "def circular_variance2(lista):\n",
      "    \n",
      "    x = np.sum(np.cos(np.radians(lista)))\n",
      "    y = np.sum(np.sin(np.radians(lista)))\n",
      "    \n",
      "\n",
      "    return 1 - math.sqrt(math.pow(x/len(lista), 2) + math.pow(y/len(lista), 2))\n",
      "\n",
      "a = [10,20,30]\n",
      "\n",
      "print(circular_variance(a))\n",
      "print(circular_variance2(a))"
     ],
     "language": "python",
     "metadata": {},
     "outputs": [
      {
       "output_type": "stream",
       "stream": "stdout",
       "text": [
        "0.0101281646585\n",
        "0.0101281646585\n"
       ]
      }
     ],
     "prompt_number": 14
    },
    {
     "cell_type": "code",
     "collapsed": false,
     "input": [],
     "language": "python",
     "metadata": {},
     "outputs": []
    }
   ],
   "metadata": {}
  }
 ]
}