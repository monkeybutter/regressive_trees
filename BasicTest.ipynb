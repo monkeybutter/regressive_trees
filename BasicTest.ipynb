{
 "metadata": {
  "name": ""
 },
 "nbformat": 3,
 "nbformat_minor": 0,
 "worksheets": [
  {
   "cells": [
    {
     "cell_type": "code",
     "collapsed": false,
     "input": [
      "import pickle\n",
      "import numpy as np\n",
      "import pandas as pd\n",
      "import pickle\n",
      "from evaluator import evaluate_dataset_raw, evaluate_dataset_raw_no_tree\n",
      "import json\n",
      "\n",
      "airports = ['yssy', 'egll', 'zbaa']\n",
      "airports = ['yssy']\n",
      "class_vars = ['metar_wind_spd', 'metar_rh']\n",
      "\n",
      "for airport in airports:\n",
      "    for class_var in class_vars:\n",
      "        raw_error = []\n",
      "        raw_cir_error = []\n",
      "        raw_lin_error = []\n",
      "        for i in range(1,6):\n",
      "            test_df = pickle.load(open(\"/home/roz016/Dropbox/Data for Tree/Results/cx5_lin_vs_cir_bin100_2/{}_{}_bin100_cx{}_testdf.pick\".format(airport, class_var, i), \"rb\"))\n",
      "            cir_tree = pickle.load(open(\"/home/roz016/Dropbox/Data for Tree/Results/cx5_lin_vs_cir_bin100_2/{}_{}_circular_bin100_cx{}_tree.pick\".format(airport, class_var, i), \"rb\"))\n",
      "            lin_tree = pickle.load(open(\"/home/roz016/Dropbox/Data for Tree/Results/cx5_lin_vs_cir_bin100_2/{}_{}_linear_bin100_cx{}_tree.pick\".format(airport, class_var, i), \"rb\"))\n",
      "            raw_error.extend(evaluate_dataset_raw_no_tree(class_var, 'gfs' + class_var[5:], test_df))\n",
      "            raw_cir_error.extend(evaluate_dataset_raw(class_var, cir_tree, test_df))\n",
      "            raw_lin_error.extend(evaluate_dataset_raw(class_var, lin_tree, test_df))\n",
      "            \n",
      "            #print(\"Circular RMSE {}: {}\".format(i, evaluate_dataset_rmse(class_var, cir_tree, test_df)))\n",
      "            #print(\"Circular MAE {}: {}\".format(i, evaluate_dataset_mae(class_var, cir_tree, test_df)))\n",
      "            #print(\"Linear RMSE {}: {}\".format(i, evaluate_dataset_rmse(class_var, lin_tree, test_df)))\n",
      "            #print(\"Linear MAE {}: {}\".format(i, evaluate_dataset_mae(class_var, lin_tree, test_df)))\n",
      "\n",
      "        print(len(raw_cir_error))\n",
      "        print(\"RMSE raw: {}\".format(np.sqrt(np.mean([i ** 2 for i in raw_error]))))\n",
      "        print(\"RMSE Circular: {}\".format(np.sqrt(np.mean([i ** 2 for i in raw_cir_error]))))\n",
      "        print(\"RMSE Linear: {}\".format(np.sqrt(np.mean([i ** 2 for i in raw_lin_error]))))\n",
      "            "
     ],
     "language": "python",
     "metadata": {},
     "outputs": [
      {
       "output_type": "stream",
       "stream": "stdout",
       "text": [
        "8560\n",
        "RMSE raw: 3.27589641902\n",
        "RMSE Circular: 1.6940653827\n",
        "RMSE Linear: 1.80874602059\n",
        "8560"
       ]
      },
      {
       "output_type": "stream",
       "stream": "stdout",
       "text": [
        "\n",
        "RMSE raw: 14.2291725472\n",
        "RMSE Circular: 10.2437544551\n",
        "RMSE Linear: 11.0809865923\n"
       ]
      }
     ],
     "prompt_number": 1
    },
    {
     "cell_type": "code",
     "collapsed": false,
     "input": [
      "import pickle\n",
      "import numpy as np\n",
      "import pandas as pd\n",
      "import pickle\n",
      "from evaluator import evaluate_dataset_raw, evaluate_dataset_rmse, evaluate_dataset_mae\n",
      "import json\n",
      "\n",
      "airports = ['yssy', 'egll', 'zbaa']\n",
      "class_vars = ['metar_wind_spd', 'metar_rh']\n",
      "\n",
      "for airport in airports:\n",
      "    for class_var in class_vars:\n",
      "        raw_error_test = []\n",
      "        raw_cir_error_test = []\n",
      "        raw_lin_error_test = []\n",
      "        raw_error_train = []\n",
      "        raw_cir_error_train = []\n",
      "        raw_lin_error_train = []\n",
      "        for i in range(1,6):\n",
      "            test_df = pickle.load(open(\"/home/roz016/Dropbox/Data for Tree/Results/cx5_lin_vs_cir_bin100_3/{}_{}_bin100_cx{}_testdf.pick\".format(airport, class_var, i), \"rb\"))\n",
      "            train_df = pickle.load(open(\"/home/roz016/Dropbox/Data for Tree/Results/cx5_lin_vs_cir_bin100_3/{}_{}_bin100_cx{}_traindf.pick\".format(airport, class_var, i), \"rb\"))\n",
      "            cir_tree = pickle.load(open(\"/home/roz016/Dropbox/Data for Tree/Results/cx5_lin_vs_cir_bin100_3/{}_{}_circular_bin100_cx{}_tree.pick\".format(airport, class_var, i), \"rb\"))\n",
      "            lin_tree = pickle.load(open(\"/home/roz016/Dropbox/Data for Tree/Results/cx5_lin_vs_cir_bin100_3/{}_{}_linear_bin100_cx{}_tree.pick\".format(airport, class_var, i), \"rb\"))\n",
      "            raw_error_test.extend(evaluate_dataset_raw_no_tree(class_var, 'gfs' + class_var[5:], test_df))\n",
      "            raw_cir_error_test.extend(evaluate_dataset_raw(class_var, cir_tree, test_df))\n",
      "            raw_lin_error_test.extend(evaluate_dataset_raw(class_var, lin_tree, test_df))\n",
      "            raw_error_train.extend(evaluate_dataset_raw_no_tree(class_var, 'gfs' + class_var[5:], train_df))\n",
      "            raw_cir_error_train.extend(evaluate_dataset_raw(class_var, cir_tree, train_df))\n",
      "            raw_lin_error_train.extend(evaluate_dataset_raw(class_var, lin_tree, train_df))\n",
      "            \n",
      "\n",
      "        print(\"Airport: {} Class var: {}\".format(airport, class_var))\n",
      "        print(\"Train RMSE Raw: {}\".format(np.sqrt(np.mean([i ** 2 for i in raw_error_train]))))\n",
      "        print(\"Train RMSE Circular: {}\".format(np.sqrt(np.mean([i ** 2 for i in raw_cir_error_train]))))\n",
      "        print(\"Train RMSE Linear: {}\".format(np.sqrt(np.mean([i ** 2 for i in raw_lin_error_train]))))\n",
      "        print(\"Test RMSE Raw: {}\".format(np.sqrt(np.mean([i ** 2 for i in raw_error_test]))))\n",
      "        print(\"Test RMSE Circular: {}\".format(np.sqrt(np.mean([i ** 2 for i in raw_cir_error_test]))))\n",
      "        print(\"Test RMSE Linear: {}\".format(np.sqrt(np.mean([i ** 2 for i in raw_lin_error_test]))))\n",
      "            "
     ],
     "language": "python",
     "metadata": {},
     "outputs": [
      {
       "output_type": "stream",
       "stream": "stdout",
       "text": [
        "Airport: yssy Class var: metar_wind_spd\n",
        "Train RMSE Raw: 3.27589641902\n",
        "Train RMSE Circular: 1.42245382909"
       ]
      },
      {
       "output_type": "stream",
       "stream": "stdout",
       "text": [
        "\n",
        "Train RMSE Linear: 1.65557708284\n",
        "Test RMSE Raw: 3.27589641902\n",
        "Test RMSE Circular: 1.67097944536"
       ]
      },
      {
       "output_type": "stream",
       "stream": "stdout",
       "text": [
        "\n",
        "Test RMSE Linear: 1.77151984214\n",
        "Airport: yssy Class var: metar_rh"
       ]
      },
      {
       "output_type": "stream",
       "stream": "stdout",
       "text": [
        "\n",
        "Train RMSE Raw: 14.2291725472\n",
        "Train RMSE Circular: 8.88284708758\n",
        "Train RMSE Linear: 10.5149247735"
       ]
      },
      {
       "output_type": "stream",
       "stream": "stdout",
       "text": [
        "\n",
        "Test RMSE Raw: 14.2291725472\n",
        "Test RMSE Circular: 10.2649321222\n",
        "Test RMSE Linear: 11.2405208008\n",
        "Airport: egll Class var: metar_wind_spd"
       ]
      },
      {
       "output_type": "stream",
       "stream": "stdout",
       "text": [
        "\n",
        "Train RMSE Raw: 1.37255559499\n",
        "Train RMSE Circular: 1.00994671333"
       ]
      },
      {
       "output_type": "stream",
       "stream": "stdout",
       "text": [
        "\n",
        "Train RMSE Linear: 1.2284521229\n",
        "Test RMSE Raw: 1.37255559499\n",
        "Test RMSE Circular: 1.12459353312"
       ]
      },
      {
       "output_type": "stream",
       "stream": "stdout",
       "text": [
        "\n",
        "Test RMSE Linear: 1.28539416183\n",
        "Airport: egll Class var: metar_rh"
       ]
      },
      {
       "output_type": "stream",
       "stream": "stdout",
       "text": [
        "\n",
        "Train RMSE Raw: 14.0952714235\n",
        "Train RMSE Circular: 7.6398490795"
       ]
      },
      {
       "output_type": "stream",
       "stream": "stdout",
       "text": [
        "\n",
        "Train RMSE Linear: 12.045510892\n",
        "Test RMSE Raw: 14.0952714235\n",
        "Test RMSE Circular: 8.58998543449"
       ]
      },
      {
       "output_type": "stream",
       "stream": "stdout",
       "text": [
        "\n",
        "Test RMSE Linear: 12.2396136447\n",
        "Airport: zbaa Class var: metar_wind_spd"
       ]
      },
      {
       "output_type": "stream",
       "stream": "stdout",
       "text": [
        "\n",
        "Train RMSE Raw: 1.72799852751\n",
        "Train RMSE Circular: 1.30866461433"
       ]
      },
      {
       "output_type": "stream",
       "stream": "stdout",
       "text": [
        "\n",
        "Train RMSE Linear: 1.71560794203\n",
        "Test RMSE Raw: 1.72799852751"
       ]
      },
      {
       "output_type": "stream",
       "stream": "stdout",
       "text": [
        "\n",
        "Test RMSE Circular: 1.51222987115\n",
        "Test RMSE Linear: 1.81282719166\n",
        "Airport: zbaa Class var: metar_rh"
       ]
      },
      {
       "output_type": "stream",
       "stream": "stdout",
       "text": [
        "\n",
        "Train RMSE Raw: 16.8520697904\n",
        "Train RMSE Circular: 12.0116389893\n",
        "Train RMSE Linear: 15.9502255976"
       ]
      },
      {
       "output_type": "stream",
       "stream": "stdout",
       "text": [
        "\n",
        "Test RMSE Raw: 16.8520697904\n",
        "Test RMSE Circular: 13.9619671481\n",
        "Test RMSE Linear: 16.5347808531\n"
       ]
      }
     ],
     "prompt_number": 2
    },
    {
     "cell_type": "code",
     "collapsed": false,
     "input": [
      "import pickle\n",
      "import numpy as np\n",
      "import pandas as pd\n",
      "import pickle\n",
      "from evaluator import evaluate_dataset_raw, evaluate_dataset_rmse, evaluate_dataset_mae\n",
      "import json\n",
      "\n",
      "airports = ['yssy']\n",
      "class_vars = ['metar_wind_dir']\n",
      "\n",
      "for airport in airports:\n",
      "    for class_var in class_vars:\n",
      "        raw_cir_cir_error_test = []\n",
      "        raw_lin_cir_error_test = []\n",
      "        raw_cir_cir_error_train = []\n",
      "        raw_lin_cir_error_train = []\n",
      "        raw_cir_lin_error_test = []\n",
      "        raw_lin_lin_error_test = []\n",
      "        raw_cir_lin_error_train = []\n",
      "        raw_lin_lin_error_train = []\n",
      "        for i in range(1,6):\n",
      "            test_df = pickle.load(open(\"/home/roz016/Dropbox/Data for Tree/Results/cx5_lin_vs_cir_bin100_3/{}_{}_bin100_cx{}_testdf.pick\".format(airport, class_var, i), \"rb\"))\n",
      "            train_df = pickle.load(open(\"/home/roz016/Dropbox/Data for Tree/Results/cx5_lin_vs_cir_bin100_3/{}_{}_bin100_cx{}_traindf.pick\".format(airport, class_var, i), \"rb\"))\n",
      "            cir_cir_tree = pickle.load(open(\"/home/roz016/Dropbox/Data for Tree/Results/cx5_lin_vs_cir_bin100_3/{}_{}_circular_gfs_circular_bin100_cx{}_tree.pick\".format(airport, class_var, i), \"rb\"))\n",
      "            lin_cir_tree = pickle.load(open(\"/home/roz016/Dropbox/Data for Tree/Results/cx5_lin_vs_cir_bin100_3/{}_{}_linear_gfs_circular_bin100_cx{}_tree.pick\".format(airport, class_var, i), \"rb\"))\n",
      "            cir_lin_tree = pickle.load(open(\"/home/roz016/Dropbox/Data for Tree/Results/cx5_lin_vs_cir_bin100_3/{}_{}_circular_gfs_linear_bin100_cx{}_tree.pick\".format(airport, class_var, i), \"rb\"))\n",
      "            lin_lin_tree = pickle.load(open(\"/home/roz016/Dropbox/Data for Tree/Results/cx5_lin_vs_cir_bin100_3/{}_{}_linear_gfs_linear_bin100_cx{}_tree.pick\".format(airport, class_var, i), \"rb\"))\n",
      "            \n",
      "            \n",
      "            raw_cir_cir_error_test.extend(evaluate_dataset_raw(class_var, cir_cir_tree, test_df))\n",
      "            raw_lin_cir_error_test.extend(evaluate_dataset_raw(class_var, lin_cir_tree, test_df))\n",
      "            raw_cir_cir_error_train.extend(evaluate_dataset_raw(class_var, cir_cir_tree, train_df))\n",
      "            raw_lin_cir_error_train.extend(evaluate_dataset_raw(class_var, lin_cir_tree, train_df))\n",
      "            raw_cir_lin_error_test.extend(evaluate_dataset_raw(class_var, cir_lin_tree, test_df))\n",
      "            raw_lin_lin_error_test.extend(evaluate_dataset_raw(class_var, lin_lin_tree, test_df))\n",
      "            raw_cir_lin_error_train.extend(evaluate_dataset_raw(class_var, cir_lin_tree, train_df))\n",
      "            raw_lin_lin_error_train.extend(evaluate_dataset_raw(class_var, lin_lin_tree, train_df))\n",
      "            \n",
      "\n",
      "        print(\"Airport: {} Class var: {}\".format(airport, class_var))\n",
      "        print(\"Train RMSE Circular Circular: {}\".format(np.sqrt(np.mean([i ** 2 for i in raw_cir_cir_error_train]))))\n",
      "        print(\"Train RMSE Linear Circular: {}\".format(np.sqrt(np.mean([i ** 2 for i in raw_lin_cir_error_train]))))\n",
      "        print(\"Test RMSE Circular Circular: {}\".format(np.sqrt(np.mean([i ** 2 for i in raw_cir_cir_error_test]))))\n",
      "        print(\"Test RMSE Linear Circular: {}\".format(np.sqrt(np.mean([i ** 2 for i in raw_lin_cir_error_test]))))\n",
      "        print(\"Train RMSE Circular Linear: {}\".format(np.sqrt(np.mean([i ** 2 for i in raw_cir_lin_error_train]))))\n",
      "        print(\"Train RMSE Linear Linear: {}\".format(np.sqrt(np.mean([i ** 2 for i in raw_lin_lin_error_train]))))\n",
      "        print(\"Test RMSE Circular Linear: {}\".format(np.sqrt(np.mean([i ** 2 for i in raw_cir_lin_error_test]))))\n",
      "        print(\"Test RMSE Linear Linear: {}\".format(np.sqrt(np.mean([i ** 2 for i in raw_lin_lin_error_test]))))\n",
      "            "
     ],
     "language": "python",
     "metadata": {},
     "outputs": [
      {
       "output_type": "stream",
       "stream": "stdout",
       "text": [
        "Airport: yssy Class var: metar_wind_dir\n",
        "Train RMSE Circular Circular: 81.0430588622\n",
        "Train RMSE Linear Circular: 63.3637677189"
       ]
      },
      {
       "output_type": "stream",
       "stream": "stdout",
       "text": [
        "\n",
        "Test RMSE Circular Circular: 86.7764739617\n",
        "Test RMSE Linear Circular: 71.7361005689\n",
        "Train RMSE Circular Linear: 88.3463991472\n",
        "Train RMSE Linear Linear: 71.2205602684"
       ]
      },
      {
       "output_type": "stream",
       "stream": "stdout",
       "text": [
        "\n",
        "Test RMSE Circular Linear: 91.0389623696\n",
        "Test RMSE Linear Linear: 75.1211213003\n"
       ]
      }
     ],
     "prompt_number": 21
    },
    {
     "cell_type": "code",
     "collapsed": false,
     "input": [
      "import numpy as np\n",
      "import math\n",
      "\n",
      "def circular_variance(lista):\n",
      "\n",
      "    x = y = 0.0\n",
      "    for value in lista:\n",
      "        x += math.cos(math.radians(value))\n",
      "        y += math.sin(math.radians(value))\n",
      "\n",
      "    return 1 - math.sqrt(math.pow(x/len(lista), 2) + math.pow(y/len(lista), 2))\n",
      "\n",
      "def circular_variance2(lista):\n",
      "    \n",
      "    x = np.sum(np.cos(np.radians(lista)))\n",
      "    y = np.sum(np.sin(np.radians(lista)))\n",
      "    \n",
      "\n",
      "    return 1 - math.sqrt(math.pow(x/len(lista), 2) + math.pow(y/len(lista), 2))\n",
      "\n",
      "a = [10,20,30]\n",
      "\n",
      "print(circular_variance(a))\n",
      "print(circular_variance2(a))"
     ],
     "language": "python",
     "metadata": {},
     "outputs": [
      {
       "output_type": "stream",
       "stream": "stdout",
       "text": [
        "0.0101281646585\n",
        "0.0101281646585\n"
       ]
      }
     ],
     "prompt_number": 14
    },
    {
     "cell_type": "code",
     "collapsed": false,
     "input": [],
     "language": "python",
     "metadata": {},
     "outputs": []
    }
   ],
   "metadata": {}
  }
 ]
}