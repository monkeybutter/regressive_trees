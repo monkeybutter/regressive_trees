{
 "metadata": {
  "name": ""
 },
 "nbformat": 3,
 "nbformat_minor": 0,
 "worksheets": [
  {
   "cells": [
    {
     "cell_type": "code",
     "collapsed": false,
     "input": [
      "import pandas as pd\n",
      "import pickle\n",
      "from evaluator import detail_evaluate_dataset\n",
      "import json\n",
      "      \n",
      "airports = ['yssy', 'egll', 'zbaa']\n",
      "class_vars = ['metar_wind_spd', 'metar_press', 'metar_rh', 'metar_temp']\n",
      "modes = [\"linear\", \"circular\"]\n",
      "\n",
      "for airport in airports:\n",
      "    for class_var in class_vars:\n",
      "        for mode in modes:\n",
      "            for i in range(1,6):\n",
      "                test_df = pickle.load(open(\"/home/roz016/Dropbox/Data for Tree/Results/cx5_lin_vs_cir_bin100/{}_{}_{}_bin100_cx{}_testdf.pick\".format(airport, class_var, mode, i), \"rb\"))\n",
      "                tree = pickle.load(open(\"/home/roz016/Dropbox/Data for Tree/Results/cx5_lin_vs_cir_bin100/{}_{}_{}_bin100_cx{}_tree.pick\".format(airport, class_var, mode, i), \"rb\"))\n",
      "                \n",
      "                with open(\"/home/roz016/Dropbox/Data for Tree/Results/cx5_lin_vs_cir_bin100/{}_{}_{}_cx{}.json\".format(airport, class_var, mode, i), 'w') as outfile:\n",
      "                  json.dump(detail_evaluate_dataset('gfs' + class_var[5:], class_var, tree, test_df), outfile)"
     ],
     "language": "python",
     "metadata": {},
     "outputs": [],
     "prompt_number": 4
    },
    {
     "cell_type": "code",
     "collapsed": false,
     "input": [
      "import pandas as pd\n",
      "import seaborn as sb\n",
      "import json\n",
      "\n",
      "airports = ['yssy', 'egll', 'zbaa']\n",
      "class_vars = ['metar_wind_spd', 'metar_press', 'metar_rh', 'metar_temp']\n",
      "\n",
      "for airport in airports:\n",
      "    for class_var in class_vars:\n",
      "        dfs_l = []\n",
      "        dfs_c = []\n",
      "        for i in range(1,6):\n",
      "            dfs_l.append(pd.read_json('/home/roz016/Dropbox/Data for Tree/Results/cx5_lin_vs_cir_bin100/{}_{}_{}_cx{}.json'.format(airport, class_var, \"linear\", i)))\n",
      "            dfs_c.append(pd.read_json('/home/roz016/Dropbox/Data for Tree/Results/cx5_lin_vs_cir_bin100/{}_{}_{}_cx{}.json'.format(airport, class_var, \"circular\", i)))\n",
      "        df_l = pd.concat(dfs_l)\n",
      "        df_c = pd.concat(dfs_c)\n",
      "        \n",
      "        df_l['gfs_diff'] = df_l[class_var] - df_l['gfs' + class_var[5:]]\n",
      "        df_l['tree_diff'] = df_l[class_var] - df_l['ctree']\n",
      "        \n",
      "        df_c['gfs_diff'] = df_c[class_var] - df_c['gfs' + class_var[5:]]\n",
      "        df_c['tree_diff'] = df_c[class_var] - df_c['ctree']\n",
      "        \n",
      "        print(\"\\n Airport: {}, Variable: {}\".format(airport, class_var))\n",
      "        \n",
      "        print(\"Count: {}, {}, {}\".format(df_l['gfs_diff'].count(), \n",
      "                                                 df_l['tree_diff'].count(), \n",
      "                                            \n",
      "                                                 df_c['tree_diff'].count()))\n",
      "\n",
      "        print(\"Mean: {}, {}, {}\".format(df_l['gfs_diff'].mean(), \n",
      "                                                 df_l['tree_diff'].mean(), \n",
      "                                                 \n",
      "                                                 df_c['tree_diff'].mean()))\n",
      "        \n",
      "        print(\"Std: {}, {}, {}\".format(df_l['gfs_diff'].std(), \n",
      "                                                 df_l['tree_diff'].std(), \n",
      "                                                 \n",
      "                                                 df_c['tree_diff'].std()))\n",
      "        \n",
      "        print(\"Count Mean -1: {}, {}, {}\".format(df_l.loc[df_l['gfs_diff'] < df_l.gfs_diff.mean()-1].gfs_diff.count(), \n",
      "                                                 df_l.loc[df_l['tree_diff'] < df_l.tree_diff.mean()-1].tree_diff.count(),\n",
      "                                                 \n",
      "                                                 df_c.loc[df_c['tree_diff'] < df_c.tree_diff.mean()-1].tree_diff.count()))\n",
      "        \n",
      "        print(\"Count Mean +1: {}, {}, {}\".format(df_l.loc[df_l['gfs_diff'] > df_l.gfs_diff.mean()+1].gfs_diff.count(), \n",
      "                                         df_l.loc[df_l['tree_diff'] > df_l.tree_diff.mean()+1].tree_diff.count(),\n",
      "                                         \n",
      "                                         df_c.loc[df_c['tree_diff'] > df_c.tree_diff.mean()+1].tree_diff.count()))\n",
      "        \n",
      "        print(\"Count Mean -2: {}, {}, {}\".format(df_l.loc[df_l['gfs_diff'] < df_l.gfs_diff.mean()-2].gfs_diff.count(), \n",
      "                                                 df_l.loc[df_l['tree_diff'] < df_l.tree_diff.mean()-2].tree_diff.count(),\n",
      "                                                 \n",
      "                                                 df_c.loc[df_c['tree_diff'] < df_c.tree_diff.mean()-2].tree_diff.count()))\n",
      "        \n",
      "        print(\"Count Mean +2: {}, {}, {}\".format(df_l.loc[df_l['gfs_diff'] > df_l.gfs_diff.mean()+2].gfs_diff.count(), \n",
      "                                         df_l.loc[df_l['tree_diff'] > df_l.tree_diff.mean()+2].tree_diff.count(),\n",
      "                                         \n",
      "                                         df_c.loc[df_c['tree_diff'] > df_c.tree_diff.mean()+2].tree_diff.count()))\n",
      "        \n",
      "        \"\"\"\n",
      "        #df.boxplot(column='press_diff')\n",
      "        sb.set(style=\"whitegrid\")\n",
      "        sb.violinplot([df_l.gfs_diff, df_l.tree_diff, df_c.tree_diff], names=['GFS', 'Tree_L', 'Tree_C'])\n",
      "        sb.despine(left=True)\n",
      "        \"\"\""
     ],
     "language": "python",
     "metadata": {},
     "outputs": [
      {
       "output_type": "stream",
       "stream": "stdout",
       "text": [
        "\n",
        " Airport: yssy, Variable: metar_wind_spd\n",
        "Count: 8560, 8560, 8560\n",
        "Mean: 2.68895443925, 0.0110389616086, 0.00953162034756\n",
        "Std: 1.87121094946, 1.63467120807, 1.66782656563\n",
        "Count Mean -1: 2723, 2111, 2103\n",
        "Count Mean +1: 2351, 2013, 2043\n",
        "Count Mean -2: 1008, 778, 785\n",
        "Count Mean +2: 1219, 842, 863\n",
        "\n",
        " Airport: yssy, Variable: metar_press"
       ]
      },
      {
       "output_type": "stream",
       "stream": "stdout",
       "text": [
        "\n",
        "Count: 8560, 8560, 8560\n",
        "Mean: 5.79894275701, 0.00461162862868, -0.00152644551836\n",
        "Std: 0.706965538379, 0.786730283029, 0.779673076252\n",
        "Count Mean -1: 446, 559, 546\n",
        "Count Mean +1: 521, 604, 618\n",
        "Count Mean -2: 29, 69, 64\n",
        "Count Mean +2: 34, 80, 78\n",
        "\n",
        " Airport: yssy, Variable: metar_rh"
       ]
      },
      {
       "output_type": "stream",
       "stream": "stdout",
       "text": [
        "\n",
        "Count: 8560, 8560, 8560\n",
        "Mean: -7.2109135514, -0.0353077459776, 0.0184470233578\n",
        "Std: 12.2674226185, 10.190844654, 10.2020161473\n",
        "Count Mean -1: 4079, 3952, 3996\n",
        "Count Mean +1: 3898, 3852, 3822\n",
        "Count Mean -2: 3775, 3631, 3647\n",
        "Count Mean +2: 3628, 3460, 3420\n",
        "\n",
        " Airport: yssy, Variable: metar_temp"
       ]
      },
      {
       "output_type": "stream",
       "stream": "stdout",
       "text": [
        "\n",
        "Count: 8560, 8560, 8560\n",
        "Mean: 1.51332943925, -0.00264418116019, 0.000342540361163\n",
        "Std: 2.02189706823, 1.47153148095, 1.47430545219\n",
        "Count Mean -1: 2308, 1867, 1914\n",
        "Count Mean +1: 2771, 1875, 1818\n",
        "Count Mean -2: 1187, 636, 627\n",
        "Count Mean +2: 1197, 634, 603\n",
        "\n",
        " Airport: egll, Variable: metar_wind_spd"
       ]
      },
      {
       "output_type": "stream",
       "stream": "stdout",
       "text": [
        "\n",
        "Count: 8554, 8554, 8554\n",
        "Mean: 0.238515314473, 0.0083012309249, 0.00156955750327\n",
        "Std: 1.35175179587, 1.13859382531, 1.12925911826\n",
        "Count Mean -1: 1894, 1428, 1417\n",
        "Count Mean +1: 1854, 1404, 1415\n",
        "Count Mean -2: 537, 321, 301\n",
        "Count Mean +2: 612, 346, 356\n",
        "\n",
        " Airport: egll, Variable: metar_press"
       ]
      },
      {
       "output_type": "stream",
       "stream": "stdout",
       "text": [
        "\n",
        "Count: 8554, 8554, 8554\n",
        "Mean: 8.11692190788, 0.00265856080854, -0.00156666597234\n",
        "Std: 0.756598492176, 0.85770576409, 0.889753438769\n",
        "Count Mean -1: 301, 492, 477\n",
        "Count Mean +1: 386, 541, 549\n",
        "Count Mean -2: 32, 75, 79\n",
        "Count Mean +2: 57, 95, 101\n",
        "\n",
        " Airport: egll, Variable: metar_rh"
       ]
      },
      {
       "output_type": "stream",
       "stream": "stdout",
       "text": [
        "\n",
        "Count: 8554, 8554, 8554\n",
        "Mean: -9.33209492635, -0.0338134528393, -0.0189775156932\n",
        "Std: 10.5641718804, 8.86740444105, 8.56909474972\n",
        "Count Mean -1: 3648, 3775, 3810\n",
        "Count Mean +1: 4158, 3955, 3915\n",
        "Count Mean -2: 3268, 3295, 3345\n",
        "Count Mean +2: 3790, 3578, 3468\n",
        "\n",
        " Airport: egll, Variable: metar_temp"
       ]
      },
      {
       "output_type": "stream",
       "stream": "stdout",
       "text": [
        "\n",
        "Count: 8554, 8554, 8554\n",
        "Mean: 1.52806055646, 0.00343151489596, 4.51228660721e-05\n",
        "Std: 1.80096111254, 1.56367043076, 1.5177329005\n",
        "Count Mean -1: 2142, 1869, 1865\n",
        "Count Mean +1: 2197, 1998, 1920\n",
        "Count Mean -2: 829, 655, 612\n",
        "Count Mean +2: 978, 705, 646\n",
        "\n",
        " Airport: zbaa, Variable: metar_wind_spd"
       ]
      },
      {
       "output_type": "stream",
       "stream": "stdout",
       "text": [
        "\n",
        "Count: 8559, 8559, 8559\n",
        "Mean: 0.716622268957, -0.00897630462697, -0.0103802084666\n",
        "Std: 1.57248858109, 1.51206159314, 1.51335674854\n",
        "Count Mean -1: 2115, 1788, 1766\n",
        "Count Mean +1: 1744, 1680, 1642\n",
        "Count Mean -2: 558, 591, 583\n",
        "Count Mean +2: 765, 679, 653\n",
        "\n",
        " Airport: zbaa, Variable: metar_press"
       ]
      },
      {
       "output_type": "stream",
       "stream": "stdout",
       "text": [
        "\n",
        "Count: 8559, 8559, 8559\n",
        "Mean: -0.794121976866, -0.000116808286878, -0.0026424484902\n",
        "Std: 1.00501969722, 1.09466430572, 1.09689163194\n",
        "Count Mean -1: 709, 876, 925\n",
        "Count Mean +1: 739, 880, 866\n",
        "Count Mean -2: 61, 121, 139\n",
        "Count Mean +2: 141, 205, 211\n",
        "\n",
        " Airport: zbaa, Variable: metar_rh"
       ]
      },
      {
       "output_type": "stream",
       "stream": "stdout",
       "text": [
        "\n",
        "Count: 8559, 8559, 8559\n",
        "Mean: 6.32953616077, 0.119477199163, -0.0415397506257\n",
        "Std: 15.6191463043, 13.988898312, 13.9111117992\n",
        "Count Mean -1: 4505, 4167, 4139\n",
        "Count Mean +1: 3602, 3766, 3790\n",
        "Count Mean -2: 4241, 3833, 3780\n",
        "Count Mean +2: 3378, 3497, 3515\n",
        "\n",
        " Airport: zbaa, Variable: metar_temp"
       ]
      },
      {
       "output_type": "stream",
       "stream": "stdout",
       "text": [
        "\n",
        "Count: 8559, 8559, 8559\n",
        "Mean: 0.41371305059, -0.00320619231221, -0.0137865390623\n",
        "Std: 2.59048282409, 2.2777848593, 2.26327277646\n",
        "Count Mean -1: 2727, 2510, 2522\n",
        "Count Mean +1: 2898, 2787, 2758\n",
        "Count Mean -2: 1613, 1424, 1416\n",
        "Count Mean +2: 1746, 1456, 1388\n"
       ]
      }
     ],
     "prompt_number": 19
    },
    {
     "cell_type": "code",
     "collapsed": false,
     "input": [],
     "language": "python",
     "metadata": {},
     "outputs": []
    }
   ],
   "metadata": {}
  }
 ]
}